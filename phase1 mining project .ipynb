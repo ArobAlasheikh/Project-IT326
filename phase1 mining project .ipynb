{
  "metadata": {
    "kernelspec": {
      "name": "python",
      "display_name": "Python (Pyodide)",
      "language": "python"
    },
    "language_info": {
      "codemirror_mode": {
        "name": "python",
        "version": 3
      },
      "file_extension": ".py",
      "mimetype": "text/x-python",
      "name": "python",
      "nbconvert_exporter": "python",
      "pygments_lexer": "ipython3",
      "version": "3.8"
    }
  },
  "nbformat_minor": 4,
  "nbformat": 4,
  "cells": [
    {
      "cell_type": "code",
      "source": "import pandas as pd \n\ndf = pd.read_csv('diabetes500Rows.csv')\ndf.info()\n",
      "metadata": {
        "trusted": true
      },
      "outputs": [
        {
          "name": "stdout",
          "text": "<class 'pandas.core.frame.DataFrame'>\nRangeIndex: 500 entries, 0 to 499\nData columns (total 18 columns):\n #   Column                Non-Null Count  Dtype\n---  ------                --------------  -----\n 0   Diabetes_012          500 non-null    int64\n 1   HighBP                500 non-null    int64\n 2   HighChol              500 non-null    int64\n 3   CholCheck             500 non-null    int64\n 4   BMI                   500 non-null    int64\n 5   Smoker                500 non-null    int64\n 6   Stroke                500 non-null    int64\n 7   HeartDiseaseorAttack  500 non-null    int64\n 8   PhysActivity          500 non-null    int64\n 9   Fruits                500 non-null    int64\n 10  Veggies               500 non-null    int64\n 11  AnyHealthcare         500 non-null    int64\n 12  NoDocbcCost           500 non-null    int64\n 13  GenHlth               500 non-null    int64\n 14  DiffWalk              500 non-null    int64\n 15  Sex                   500 non-null    int64\n 16  Age                   500 non-null    int64\n 17  Education             500 non-null    int64\ndtypes: int64(18)\nmemory usage: 70.4 KB\n",
          "output_type": "stream"
        }
      ],
      "execution_count": 2
    },
    {
      "cell_type": "code",
      "source": "df.describe()",
      "metadata": {
        "trusted": true
      },
      "outputs": [
        {
          "execution_count": 3,
          "output_type": "execute_result",
          "data": {
            "text/plain": "       Diabetes_012      HighBP    HighChol   CholCheck         BMI  \\\ncount    500.000000  500.000000  500.000000  500.000000  500.000000   \nmean       1.020000    0.634000    0.568000    0.986000   29.314000   \nstd        0.820333    0.482192    0.495851    0.117608    6.076945   \nmin        0.000000    0.000000    0.000000    0.000000   16.000000   \n25%        0.000000    0.000000    0.000000    1.000000   25.000000   \n50%        1.000000    1.000000    1.000000    1.000000   28.000000   \n75%        2.000000    1.000000    1.000000    1.000000   32.000000   \nmax        2.000000    1.000000    1.000000    1.000000   60.000000   \n\n           Smoker      Stroke  HeartDiseaseorAttack  PhysActivity      Fruits  \\\ncount  500.000000  500.000000            500.000000    500.000000  500.000000   \nmean     0.398000    0.040000              0.164000      0.522000    0.496000   \nstd      0.489976    0.196155              0.370646      0.500016    0.500485   \nmin      0.000000    0.000000              0.000000      0.000000    0.000000   \n25%      0.000000    0.000000              0.000000      0.000000    0.000000   \n50%      0.000000    0.000000              0.000000      1.000000    0.000000   \n75%      1.000000    0.000000              0.000000      1.000000    1.000000   \nmax      1.000000    1.000000              1.000000      1.000000    1.000000   \n\n          Veggies  AnyHealthcare  NoDocbcCost     GenHlth    DiffWalk  \\\ncount  500.000000     500.000000   500.000000  500.000000  500.000000   \nmean     0.764000       0.956000     0.150000    3.130000    0.326000   \nstd      0.425047       0.205301     0.357429    1.054193    0.469217   \nmin      0.000000       0.000000     0.000000    1.000000    0.000000   \n25%      1.000000       1.000000     0.000000    2.000000    0.000000   \n50%      1.000000       1.000000     0.000000    3.000000    0.000000   \n75%      1.000000       1.000000     0.000000    4.000000    1.000000   \nmax      1.000000       1.000000     1.000000    5.000000    1.000000   \n\n              Sex         Age   Education  \ncount  500.000000  500.000000  500.000000  \nmean     0.370000    8.306000    4.592000  \nstd      0.483288    2.814998    1.269945  \nmin      0.000000    1.000000    2.000000  \n25%      0.000000    7.000000    4.000000  \n50%      0.000000    9.000000    5.000000  \n75%      1.000000   10.000000    6.000000  \nmax      1.000000   13.000000    6.000000  ",
            "text/html": "<div>\n<style scoped>\n    .dataframe tbody tr th:only-of-type {\n        vertical-align: middle;\n    }\n\n    .dataframe tbody tr th {\n        vertical-align: top;\n    }\n\n    .dataframe thead th {\n        text-align: right;\n    }\n</style>\n<table border=\"1\" class=\"dataframe\">\n  <thead>\n    <tr style=\"text-align: right;\">\n      <th></th>\n      <th>Diabetes_012</th>\n      <th>HighBP</th>\n      <th>HighChol</th>\n      <th>CholCheck</th>\n      <th>BMI</th>\n      <th>Smoker</th>\n      <th>Stroke</th>\n      <th>HeartDiseaseorAttack</th>\n      <th>PhysActivity</th>\n      <th>Fruits</th>\n      <th>Veggies</th>\n      <th>AnyHealthcare</th>\n      <th>NoDocbcCost</th>\n      <th>GenHlth</th>\n      <th>DiffWalk</th>\n      <th>Sex</th>\n      <th>Age</th>\n      <th>Education</th>\n    </tr>\n  </thead>\n  <tbody>\n    <tr>\n      <th>count</th>\n      <td>500.000000</td>\n      <td>500.000000</td>\n      <td>500.000000</td>\n      <td>500.000000</td>\n      <td>500.000000</td>\n      <td>500.000000</td>\n      <td>500.000000</td>\n      <td>500.000000</td>\n      <td>500.000000</td>\n      <td>500.000000</td>\n      <td>500.000000</td>\n      <td>500.000000</td>\n      <td>500.000000</td>\n      <td>500.000000</td>\n      <td>500.000000</td>\n      <td>500.000000</td>\n      <td>500.000000</td>\n      <td>500.000000</td>\n    </tr>\n    <tr>\n      <th>mean</th>\n      <td>1.020000</td>\n      <td>0.634000</td>\n      <td>0.568000</td>\n      <td>0.986000</td>\n      <td>29.314000</td>\n      <td>0.398000</td>\n      <td>0.040000</td>\n      <td>0.164000</td>\n      <td>0.522000</td>\n      <td>0.496000</td>\n      <td>0.764000</td>\n      <td>0.956000</td>\n      <td>0.150000</td>\n      <td>3.130000</td>\n      <td>0.326000</td>\n      <td>0.370000</td>\n      <td>8.306000</td>\n      <td>4.592000</td>\n    </tr>\n    <tr>\n      <th>std</th>\n      <td>0.820333</td>\n      <td>0.482192</td>\n      <td>0.495851</td>\n      <td>0.117608</td>\n      <td>6.076945</td>\n      <td>0.489976</td>\n      <td>0.196155</td>\n      <td>0.370646</td>\n      <td>0.500016</td>\n      <td>0.500485</td>\n      <td>0.425047</td>\n      <td>0.205301</td>\n      <td>0.357429</td>\n      <td>1.054193</td>\n      <td>0.469217</td>\n      <td>0.483288</td>\n      <td>2.814998</td>\n      <td>1.269945</td>\n    </tr>\n    <tr>\n      <th>min</th>\n      <td>0.000000</td>\n      <td>0.000000</td>\n      <td>0.000000</td>\n      <td>0.000000</td>\n      <td>16.000000</td>\n      <td>0.000000</td>\n      <td>0.000000</td>\n      <td>0.000000</td>\n      <td>0.000000</td>\n      <td>0.000000</td>\n      <td>0.000000</td>\n      <td>0.000000</td>\n      <td>0.000000</td>\n      <td>1.000000</td>\n      <td>0.000000</td>\n      <td>0.000000</td>\n      <td>1.000000</td>\n      <td>2.000000</td>\n    </tr>\n    <tr>\n      <th>25%</th>\n      <td>0.000000</td>\n      <td>0.000000</td>\n      <td>0.000000</td>\n      <td>1.000000</td>\n      <td>25.000000</td>\n      <td>0.000000</td>\n      <td>0.000000</td>\n      <td>0.000000</td>\n      <td>0.000000</td>\n      <td>0.000000</td>\n      <td>1.000000</td>\n      <td>1.000000</td>\n      <td>0.000000</td>\n      <td>2.000000</td>\n      <td>0.000000</td>\n      <td>0.000000</td>\n      <td>7.000000</td>\n      <td>4.000000</td>\n    </tr>\n    <tr>\n      <th>50%</th>\n      <td>1.000000</td>\n      <td>1.000000</td>\n      <td>1.000000</td>\n      <td>1.000000</td>\n      <td>28.000000</td>\n      <td>0.000000</td>\n      <td>0.000000</td>\n      <td>0.000000</td>\n      <td>1.000000</td>\n      <td>0.000000</td>\n      <td>1.000000</td>\n      <td>1.000000</td>\n      <td>0.000000</td>\n      <td>3.000000</td>\n      <td>0.000000</td>\n      <td>0.000000</td>\n      <td>9.000000</td>\n      <td>5.000000</td>\n    </tr>\n    <tr>\n      <th>75%</th>\n      <td>2.000000</td>\n      <td>1.000000</td>\n      <td>1.000000</td>\n      <td>1.000000</td>\n      <td>32.000000</td>\n      <td>1.000000</td>\n      <td>0.000000</td>\n      <td>0.000000</td>\n      <td>1.000000</td>\n      <td>1.000000</td>\n      <td>1.000000</td>\n      <td>1.000000</td>\n      <td>0.000000</td>\n      <td>4.000000</td>\n      <td>1.000000</td>\n      <td>1.000000</td>\n      <td>10.000000</td>\n      <td>6.000000</td>\n    </tr>\n    <tr>\n      <th>max</th>\n      <td>2.000000</td>\n      <td>1.000000</td>\n      <td>1.000000</td>\n      <td>1.000000</td>\n      <td>60.000000</td>\n      <td>1.000000</td>\n      <td>1.000000</td>\n      <td>1.000000</td>\n      <td>1.000000</td>\n      <td>1.000000</td>\n      <td>1.000000</td>\n      <td>1.000000</td>\n      <td>1.000000</td>\n      <td>5.000000</td>\n      <td>1.000000</td>\n      <td>1.000000</td>\n      <td>13.000000</td>\n      <td>6.000000</td>\n    </tr>\n  </tbody>\n</table>\n</div>"
          },
          "metadata": {}
        }
      ],
      "execution_count": 3
    },
    {
      "cell_type": "markdown",
      "source": "##### Goal : diabetes Prediction based on health indicators",
      "metadata": {}
    },
    {
      "cell_type": "markdown",
      "source": "##### Source link : https://www.example.com/dataset.csv",
      "metadata": {}
    },
    {
      "cell_type": "code",
      "source": "",
      "metadata": {
        "trusted": true
      },
      "outputs": [],
      "execution_count": null
    }
  ]
}